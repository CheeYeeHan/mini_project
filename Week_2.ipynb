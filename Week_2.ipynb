{
 "cells": [
  {
   "cell_type": "markdown",
   "id": "5038236e",
   "metadata": {},
   "source": [
    "# Learning outcomes\n",
    "1. Python fundamentals\n",
    "- basic syntax\n",
    "- custom function\n",
    "- data types\n",
    "- data structures\n",
    "- Numpy modules\n",
    "\n",
    "2. Familiar with the creation of custom images."
   ]
  },
  {
   "cell_type": "markdown",
   "id": "70d57278",
   "metadata": {},
   "source": [
    "## fundamentals"
   ]
  },
  {
   "cell_type": "markdown",
   "id": "0f966446",
   "metadata": {},
   "source": [
    "## Basic syntax"
   ]
  },
  {
   "cell_type": "code",
   "execution_count": 7,
   "id": "617dffcd",
   "metadata": {},
   "outputs": [
    {
     "name": "stdout",
     "output_type": "stream",
     "text": [
      "Hello World!\n"
     ]
    }
   ],
   "source": [
    "print(\"Hello World!\")"
   ]
  },
  {
   "cell_type": "markdown",
   "id": "eb72d934",
   "metadata": {},
   "source": [
    "## custom function"
   ]
  },
  {
   "cell_type": "code",
   "execution_count": 8,
   "id": "cf49835a",
   "metadata": {},
   "outputs": [],
   "source": [
    "def AddToNumbers(x, y):\n",
    "    \"This function is to add 2 numbers together\"\n",
    "    return (x+y)"
   ]
  },
  {
   "cell_type": "code",
   "execution_count": 9,
   "id": "0767e322",
   "metadata": {},
   "outputs": [
    {
     "data": {
      "text/plain": [
       "12"
      ]
     },
     "execution_count": 9,
     "metadata": {},
     "output_type": "execute_result"
    }
   ],
   "source": [
    "AddToNumbers(2, 10)"
   ]
  },
  {
   "cell_type": "code",
   "execution_count": 10,
   "id": "8b03ce1d",
   "metadata": {},
   "outputs": [],
   "source": [
    "def compare(x, y):\n",
    "    if x > y:\n",
    "        print(f\"{x} is larger than {y}.\")\n",
    "    elif x < y:\n",
    "        print(f\"{x} is less than {y}.\")\n",
    "    else:\n",
    "        print(f\"{x} and {y} are equal.\")"
   ]
  },
  {
   "cell_type": "code",
   "execution_count": 11,
   "id": "bdadb10d",
   "metadata": {},
   "outputs": [
    {
     "name": "stdout",
     "output_type": "stream",
     "text": [
      "9 is less than 10.\n"
     ]
    }
   ],
   "source": [
    "compare(9, 10)"
   ]
  },
  {
   "cell_type": "markdown",
   "id": "dc898361",
   "metadata": {},
   "source": [
    "## data types\n",
    "- floating point numbers\n",
    "- integer\n",
    "- string\n",
    "- boolean\n",
    "- complex number (most of time, it is not helpful)"
   ]
  },
  {
   "cell_type": "code",
   "execution_count": 2,
   "id": "378a6673",
   "metadata": {},
   "outputs": [
    {
     "data": {
      "text/plain": [
       "complex"
      ]
     },
     "execution_count": 2,
     "metadata": {},
     "output_type": "execute_result"
    }
   ],
   "source": [
    "import math\n",
    "\n",
    "x = math.pi\n",
    "y = 0\n",
    "z = \"Computer vision is fun\"\n",
    "z1 = False # True\n",
    "z2 = 2j\n",
    "\n",
    "type(x)\n",
    "type(y)\n",
    "type(z)\n",
    "type(z1)\n",
    "type(z2)"
   ]
  },
  {
   "cell_type": "code",
   "execution_count": 13,
   "id": "72804cf0",
   "metadata": {},
   "outputs": [],
   "source": [
    "from IPython.core.interactiveshell import InteractiveShell\n",
    "InteractiveShell.ast_node_interactivity = \"all\""
   ]
  },
  {
   "cell_type": "code",
   "execution_count": 14,
   "id": "6714cbcf",
   "metadata": {},
   "outputs": [],
   "source": [
    "InteractiveShell.ast_node_interactivity = \"last_expr\""
   ]
  },
  {
   "cell_type": "code",
   "execution_count": 15,
   "id": "c9ba5b61",
   "metadata": {},
   "outputs": [
    {
     "name": "stdout",
     "output_type": "stream",
     "text": [
      "3\n",
      "2.141\n"
     ]
    }
   ],
   "source": [
    "# casting (conversion between data types)\n",
    "x = 11 / 3\n",
    "y = \"2.141\"\n",
    "\n",
    "print(int(x))\n",
    "print(float(y))"
   ]
  },
  {
   "cell_type": "markdown",
   "id": "1aabe321",
   "metadata": {},
   "source": [
    "## Data Structures\n",
    "## List and tuple\n",
    "List and tuple are variables that can hold multiple items. Differences:\n",
    "| List | Tuple |\n",
    "| --- | --- |\n",
    "| $[]$ | () |\n",
    "| changeable | unchangeable |"
   ]
  },
  {
   "cell_type": "code",
   "execution_count": 16,
   "id": "59857ebd",
   "metadata": {},
   "outputs": [
    {
     "data": {
      "text/plain": [
       "['a', 'b', 'c']"
      ]
     },
     "execution_count": 16,
     "metadata": {},
     "output_type": "execute_result"
    }
   ],
   "source": [
    "myList = [\"a\", \"b\", \"c\"]\n",
    "myList"
   ]
  },
  {
   "cell_type": "code",
   "execution_count": 17,
   "id": "1f726f1d",
   "metadata": {},
   "outputs": [
    {
     "data": {
      "text/plain": [
       "('a', 'b', 'c')"
      ]
     },
     "execution_count": 17,
     "metadata": {},
     "output_type": "execute_result"
    }
   ],
   "source": [
    "myTuple = (\"a\", \"b\", \"c\")\n",
    "myTuple"
   ]
  },
  {
   "cell_type": "code",
   "execution_count": 18,
   "id": "8b3b6f6b",
   "metadata": {},
   "outputs": [
    {
     "data": {
      "text/plain": [
       "['a', 10, 'c']"
      ]
     },
     "execution_count": 18,
     "metadata": {},
     "output_type": "execute_result"
    }
   ],
   "source": [
    "myList[1] = 10\n",
    "myList"
   ]
  },
  {
   "cell_type": "code",
   "execution_count": 19,
   "id": "a7c896bb",
   "metadata": {
    "scrolled": true
   },
   "outputs": [
    {
     "name": "stdout",
     "output_type": "stream",
     "text": [
      "Tuple is immutable\n"
     ]
    }
   ],
   "source": [
    "try:\n",
    "    myTuple[1] = 10\n",
    "except:\n",
    "    print(\"Tuple is immutable\")"
   ]
  },
  {
   "cell_type": "markdown",
   "id": "9fbc9642",
   "metadata": {},
   "source": [
    "## Numpy module\n",
    "Numpy enables fast array computation and manipulation. Faster than list.\n",
    "Locality of reference"
   ]
  },
  {
   "cell_type": "code",
   "execution_count": 3,
   "id": "52820690",
   "metadata": {},
   "outputs": [],
   "source": [
    "import numpy as np"
   ]
  },
  {
   "cell_type": "code",
   "execution_count": 21,
   "id": "5ab1195e",
   "metadata": {},
   "outputs": [
    {
     "data": {
      "text/plain": [
       "numpy.ndarray"
      ]
     },
     "execution_count": 21,
     "metadata": {},
     "output_type": "execute_result"
    }
   ],
   "source": [
    "# Lets define 10 array\n",
    "x = np.array([1, 2, 3, 4, 5])\n",
    "type(x)"
   ]
  },
  {
   "cell_type": "markdown",
   "id": "d0364af1",
   "metadata": {},
   "source": [
    "## Indexing"
   ]
  },
  {
   "cell_type": "code",
   "execution_count": 22,
   "id": "75488498",
   "metadata": {},
   "outputs": [
    {
     "name": "stdout",
     "output_type": "stream",
     "text": [
      "3\n",
      "5\n"
     ]
    }
   ],
   "source": [
    "print(x[2]) # 3\n",
    "print(x[-1]) # 5"
   ]
  },
  {
   "cell_type": "markdown",
   "id": "ee13a833",
   "metadata": {},
   "source": [
    "## Slicing"
   ]
  },
  {
   "cell_type": "code",
   "execution_count": 23,
   "id": "f6a17388",
   "metadata": {},
   "outputs": [
    {
     "name": "stdout",
     "output_type": "stream",
     "text": [
      "[2 3]\n"
     ]
    }
   ],
   "source": [
    "print(x[1:3])"
   ]
  },
  {
   "cell_type": "code",
   "execution_count": 24,
   "id": "99c9af3e",
   "metadata": {},
   "outputs": [
    {
     "data": {
      "text/plain": [
       "array([5, 4, 3, 2, 1])"
      ]
     },
     "execution_count": 24,
     "metadata": {},
     "output_type": "execute_result"
    }
   ],
   "source": [
    "## reverse\n",
    "x[::-1]"
   ]
  },
  {
   "cell_type": "code",
   "execution_count": 25,
   "id": "9255f721",
   "metadata": {},
   "outputs": [
    {
     "data": {
      "text/plain": [
       "array([1, 3, 5])"
      ]
     },
     "execution_count": 25,
     "metadata": {},
     "output_type": "execute_result"
    }
   ],
   "source": [
    "x[::2]"
   ]
  },
  {
   "cell_type": "code",
   "execution_count": 26,
   "id": "0e95f788",
   "metadata": {},
   "outputs": [
    {
     "data": {
      "text/plain": [
       "array([3, 4, 5])"
      ]
     },
     "execution_count": 26,
     "metadata": {},
     "output_type": "execute_result"
    }
   ],
   "source": [
    "x[2::]"
   ]
  },
  {
   "cell_type": "markdown",
   "id": "3fe05467",
   "metadata": {},
   "source": [
    "## Concatenation (join)"
   ]
  },
  {
   "cell_type": "code",
   "execution_count": 27,
   "id": "3c7fbe8e",
   "metadata": {},
   "outputs": [
    {
     "data": {
      "text/plain": [
       "array([ 1,  2,  3,  4,  5,  6,  7,  8,  9, 10])"
      ]
     },
     "execution_count": 27,
     "metadata": {},
     "output_type": "execute_result"
    }
   ],
   "source": [
    "y = np.array([6, 7, 8, 9, 10])\n",
    "x_long = np.concatenate((x, y))\n",
    "x_long"
   ]
  },
  {
   "cell_type": "markdown",
   "id": "1c4a05b1",
   "metadata": {},
   "source": [
    "## Attributes of Numpy.ndarray object"
   ]
  },
  {
   "cell_type": "code",
   "execution_count": 28,
   "id": "d2d223ef",
   "metadata": {},
   "outputs": [
    {
     "name": "stdout",
     "output_type": "stream",
     "text": [
      "The shape of x_long: (10,)\n",
      "int32\n"
     ]
    }
   ],
   "source": [
    "print(f\"The shape of x_long: {x_long.shape}\")\n",
    "print(x_long.dtype)"
   ]
  },
  {
   "cell_type": "markdown",
   "id": "e022681b",
   "metadata": {},
   "source": [
    "## Create custom image"
   ]
  },
  {
   "cell_type": "code",
   "execution_count": 29,
   "id": "e329c47c",
   "metadata": {},
   "outputs": [],
   "source": [
    "import matplotlib.pyplot as plt"
   ]
  },
  {
   "cell_type": "code",
   "execution_count": 30,
   "id": "34e4b4cc",
   "metadata": {},
   "outputs": [
    {
     "data": {
      "text/plain": [
       "<function matplotlib.pyplot.show(close=None, block=None)>"
      ]
     },
     "execution_count": 30,
     "metadata": {},
     "output_type": "execute_result"
    },
    {
     "data": {
      "image/png": "[encoded data removed]",
      "text/plain": [
       "<Figure size 640x480 with 1 Axes>"
      ]
     },
     "metadata": {},
     "output_type": "display_data"
    }
   ],
   "source": [
    "# create a black image\n",
    "black = np.zeros ((200, 200), dtype = np.uint8) # \"uint8\"\n",
    "\n",
    "plt.imshow(black, cmap=plt.cm.gray)\n",
    "plt.title(\"custom black image\")\n",
    "plt.xticks([]), plt.yticks([])\n",
    "plt.show"
   ]
  },
  {
   "cell_type": "code",
   "execution_count": 31,
   "id": "2717be69",
   "metadata": {},
   "outputs": [
    {
     "data": {
      "text/plain": [
       "<function matplotlib.pyplot.show(close=None, block=None)>"
      ]
     },
     "execution_count": 31,
     "metadata": {},
     "output_type": "execute_result"
    },
    {
     "data": {
      "image/png": "[encoded data removed]",
      "text/plain": [
       "<Figure size 640x480 with 1 Axes>"
      ]
     },
     "metadata": {},
     "output_type": "display_data"
    }
   ],
   "source": [
    "# create a white image\n",
    "white = 255 * np.ones((200, 200))\n",
    "white = np.uint8(white)\n",
    "\n",
    "plt.imshow(white, cmap=plt.cm.gray, vmin=0, vmax=256)\n",
    "plt.title(\"custom white image\")\n",
    "plt.xticks([]), plt.yticks([])\n",
    "plt.show"
   ]
  },
  {
   "cell_type": "code",
   "execution_count": 32,
   "id": "edf22d5a",
   "metadata": {},
   "outputs": [
    {
     "data": {
      "text/plain": [
       "<function matplotlib.pyplot.show(close=None, block=None)>"
      ]
     },
     "execution_count": 32,
     "metadata": {},
     "output_type": "execute_result"
    },
    {
     "data": {
      "image/png": "[encoded data removed]",
      "text/plain": [
       "<Figure size 640x480 with 1 Axes>"
      ]
     },
     "metadata": {},
     "output_type": "display_data"
    }
   ],
   "source": [
    "# random signal image\n",
    "noise_color_img = np.random.randint(0, high=256, size=(100, 100, 3), dtype=np.uint8)\n",
    "\n",
    "plt.imshow(noise_color_img)\n",
    "plt.title(\"random noise color image\")\n",
    "plt.xticks([]), plt.yticks([])\n",
    "plt.show"
   ]
  },
  {
   "cell_type": "markdown",
   "id": "4abee40f",
   "metadata": {},
   "source": [
    "## Exercise 1"
   ]
  },
  {
   "cell_type": "code",
   "execution_count": 33,
   "id": "d9624877",
   "metadata": {},
   "outputs": [],
   "source": [
    "# 1. Try to write a simple custom function to determine whether a given integer is odd or even number\n",
    "\n",
    "def OddEven(x):\n",
    "    \"\"\"\"Check whether an integer is odd or even, x must be integer\"\"\"\n",
    "    if isinstance(x, int):\n",
    "        if x % 2 == 0:\n",
    "            if x == 0:\n",
    "                statement = \" is either even or odd.\"\n",
    "            else:\n",
    "                statement = \" is even number.\"\n",
    "        else:\n",
    "            statement = \" is odd number.\"\n",
    "    else:\n",
    "        statement = \" is not an integer!\"\n",
    "    \n",
    "    return print(f\"{x}\" + statement)\n",
    "    "
   ]
  },
  {
   "cell_type": "code",
   "execution_count": 34,
   "id": "0a88119e",
   "metadata": {},
   "outputs": [
    {
     "name": "stdout",
     "output_type": "stream",
     "text": [
      "0 is either even or odd.\n"
     ]
    }
   ],
   "source": [
    "OddEven(0)"
   ]
  },
  {
   "cell_type": "code",
   "execution_count": 35,
   "id": "2014ee3f",
   "metadata": {},
   "outputs": [
    {
     "name": "stdout",
     "output_type": "stream",
     "text": [
      "0.9 is not an integer!\n"
     ]
    }
   ],
   "source": [
    "OddEven(0.9)"
   ]
  },
  {
   "cell_type": "code",
   "execution_count": 36,
   "id": "66af091f",
   "metadata": {},
   "outputs": [
    {
     "name": "stdout",
     "output_type": "stream",
     "text": [
      "77 is odd number.\n"
     ]
    }
   ],
   "source": [
    "OddEven(77)"
   ]
  },
  {
   "cell_type": "markdown",
   "id": "94da5776",
   "metadata": {},
   "source": [
    "## Exercise 2"
   ]
  },
  {
   "cell_type": "code",
   "execution_count": 37,
   "id": "33196805",
   "metadata": {},
   "outputs": [],
   "source": [
    "# 2. Write a simple example code to show that Numpy is more efficient in numerical computation of large arrays of data than equivalent Python list.\n",
    "\n",
    "large_n = 1e5 # 100,000\n",
    "\n",
    "numpy_arr = np.arange(large_n)\n",
    "list_arr = list(range(int(large_n)))"
   ]
  },
  {
   "cell_type": "code",
   "execution_count": 38,
   "id": "3e653634",
   "metadata": {},
   "outputs": [
    {
     "name": "stdout",
     "output_type": "stream",
     "text": [
      "[0. 1. 2. 3. 4.]\n",
      "[0, 1, 2, 3, 4]\n"
     ]
    }
   ],
   "source": [
    "print(numpy_arr[:5])\n",
    "print(list_arr[:5])"
   ]
  },
  {
   "cell_type": "code",
   "execution_count": 39,
   "id": "6daa312a",
   "metadata": {},
   "outputs": [
    {
     "name": "stdout",
     "output_type": "stream",
     "text": [
      "[99995. 99996. 99997. 99998. 99999.]\n",
      "[99995, 99996, 99997, 99998, 99999]\n"
     ]
    }
   ],
   "source": [
    "print(numpy_arr[-5:])\n",
    "print(list_arr[-5:])"
   ]
  },
  {
   "cell_type": "code",
   "execution_count": 40,
   "id": "fb423b55",
   "metadata": {},
   "outputs": [
    {
     "name": "stdout",
     "output_type": "stream",
     "text": [
      "88.2 µs ± 1.3 µs per loop (mean ± std. dev. of 7 runs, 10,000 loops each)\n"
     ]
    }
   ],
   "source": [
    "%timeit res = numpy_arr * 2"
   ]
  },
  {
   "cell_type": "code",
   "execution_count": 41,
   "id": "669b11fd",
   "metadata": {},
   "outputs": [
    {
     "name": "stdout",
     "output_type": "stream",
     "text": [
      "8.37 ms ± 237 µs per loop (mean ± std. dev. of 7 runs, 100 loops each)\n"
     ]
    }
   ],
   "source": [
    "%timeit res = [2 * i for i in list_arr]"
   ]
  },
  {
   "cell_type": "markdown",
   "id": "b0020a4c",
   "metadata": {},
   "source": [
    "## Exercise 3"
   ]
  },
  {
   "cell_type": "code",
   "execution_count": 4,
   "id": "6eb010ce",
   "metadata": {},
   "outputs": [
    {
     "name": "stdout",
     "output_type": "stream",
     "text": [
      "[0 1 2 3 4 5 6 7 8 9]\n",
      "[ 0  1  2  3 25 25 25  7  8  9]\n",
      "[-1 25 25]\n",
      "[ 0  1  2  3 -1 25 25  7  8  9]\n"
     ]
    }
   ],
   "source": [
    "# 3. \n",
    "my_arr = np.arange(10)\n",
    "print(my_arr)\n",
    "my_arr[4:7] = 25\n",
    "print(my_arr)\n",
    "arr_slice = my_arr[4:7]\n",
    "\n",
    "# Change the first element of arr_slice to -1\n",
    "arr_slice[0]= -1\n",
    "\n",
    "print(arr_slice)\n",
    "print(my_arr)"
   ]
  },
  {
   "cell_type": "code",
   "execution_count": 5,
   "id": "5825ae01",
   "metadata": {},
   "outputs": [
    {
     "name": "stdout",
     "output_type": "stream",
     "text": [
      "[0 1 2 3 4 5 6 7 8 9]\n",
      "[ 0  1  2  3 25 25 25  7  8  9]\n",
      "[-1 25 25]\n",
      "[ 0  1  2  3 25 25 25  7  8  9]\n"
     ]
    }
   ],
   "source": [
    "# What do you notice? Propose a way to reassign arr_slice with new value without modifying my_arr.\n",
    "\n",
    "# When modifying elements in arr_slice, it also modifies the corresponding elements in my_arr.\n",
    "\n",
    "my_arr = np.arange(10)\n",
    "print(my_arr)\n",
    "my_arr[4:7] = 25\n",
    "print(my_arr)\n",
    "arr_slice = my_arr[4:7].copy()\n",
    "\n",
    "# Change the first element of arr_slice to -1\n",
    "arr_slice[0]= -1\n",
    "\n",
    "print(arr_slice)\n",
    "print(my_arr)"
   ]
  },
  {
   "cell_type": "markdown",
   "id": "5e8277c0",
   "metadata": {},
   "source": [
    "## Exercise 4"
   ]
  },
  {
   "cell_type": "code",
   "execution_count": 6,
   "id": "b408b9dd",
   "metadata": {},
   "outputs": [
    {
     "data": {
      "image/png": "[encoded data removed]",
      "text/plain": [
       "<Figure size 640x480 with 1 Axes>"
      ]
     },
     "metadata": {},
     "output_type": "display_data"
    }
   ],
   "source": [
    "# 4. Create an image as shown as the following with the help of Numpy and matplotlib modules. You can arbitrarily set the dimension of the image and white circular spot at the middle. \n",
    "\n",
    "import numpy as np\n",
    "import matplotlib.pyplot as plt\n",
    "\n",
    "# Set the dimensions of the image\n",
    "width = 200\n",
    "height = 200\n",
    "\n",
    "# Create a blank image\n",
    "image = np.zeros((height, width))\n",
    "\n",
    "# Set the center coordinates of the circular spot\n",
    "center_x = width / 2\n",
    "center_y = height / 2\n",
    "\n",
    "# Set the radius of the circular spot\n",
    "radius = 20\n",
    "\n",
    "# Generate the coordinates of all the pixels in the image\n",
    "y_coords, x_coords = np.ogrid[:height, :width]\n",
    "\n",
    "# Create a mask for the circular spot\n",
    "mask = (x_coords - center_x)**2 + (y_coords - center_y)**2 <= radius**2\n",
    "\n",
    "# Set the pixel values of the circular spot to white\n",
    "image[mask] = 255\n",
    "\n",
    "# Display the image\n",
    "plt.imshow(image, cmap=plt.cm.gray)\n",
    "plt.axis('off')\n",
    "plt.show()"
   ]
  },
  {
   "cell_type": "code",
   "execution_count": null,
   "id": "867cc24f",
   "metadata": {},
   "outputs": [],
   "source": []
  }
 ],
 "metadata": {
  "kernelspec": {
   "display_name": "Python 3 (ipykernel)",
   "language": "python",
   "name": "python3"
  },
  "language_info": {
   "codemirror_mode": {
    "name": "ipython",
    "version": 3
   },
   "file_extension": ".py",
   "mimetype": "text/x-python",
   "name": "python",
   "nbconvert_exporter": "python",
   "pygments_lexer": "ipython3",
   "version": "3.11.4"
  }
 },
 "nbformat": 4,
 "nbformat_minor": 5
}
